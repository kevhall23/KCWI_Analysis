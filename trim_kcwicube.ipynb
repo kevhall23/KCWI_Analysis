{
 "cells": [
  {
   "attachments": {},
   "cell_type": "markdown",
   "metadata": {},
   "source": [
    "# Trim KCWI Datacubes\n",
    "\n",
    "# This notebook trims the edges off from each cube\n",
    "# Adjusts the wavelength axis\n",
    "\n",
    "# Function reads fits files from where drp icubes.fits reside\n",
    "# User will need to adjust the code to adjust directory\n",
    "\n",
    "# Saves all Trimmed kcwi datacubes to \"trimcube/\" directory\n",
    "# Trimmed cubes denoted with \"tr\" after frame number"
   ]
  },
  {
   "cell_type": "code",
   "execution_count": 1,
   "metadata": {},
   "outputs": [],
   "source": [
    "# imports\n",
    "import numpy as np\n",
    "from astropy.io import fits\n"
   ]
  },
  {
   "cell_type": "code",
   "execution_count": 4,
   "metadata": {},
   "outputs": [],
   "source": [
    "def trim_kcwi_cube(number):\n",
    "    \n",
    "    # removes the border in each kcwi frame\n",
    "    # Trims wavelength axis based on header information \n",
    "    \n",
    "    hdul = fits.open('drp/kb220131_000'+number+'_icubes.fits')\n",
    "    s = hdul[0].data # data string\n",
    "    header = hdul[0].header\n",
    "    w, ra, dec = np.shape(hdul[0].data)\n",
    "\n",
    "    first_lamb = header['CRVAL3']\n",
    "    spacing = header['CD3_3']\n",
    "    Lambda = np.arange(first_lamb, first_lamb + spacing*w, spacing)\n",
    "    \n",
    "    low_good = header['WAVGOOD0']\n",
    "    high_good = header['WAVGOOD1']\n",
    "    \n",
    "    # grab the index for the low/high wavelength in kcwi cube\n",
    "    idx_low = list(abs(Lambda-low_good)).index(np.min(abs(Lambda-low_good)))\n",
    "    idx_high = list(abs(Lambda-high_good)).index(np.min(abs(Lambda-high_good)))\n",
    "    \n",
    "    # Trim datacube\n",
    "    s = s[idx_low:idx_high,14:81,1:27]\n",
    "    \n",
    "    hdu = fits.PrimaryHDU(data=s)\n",
    "    hdu.header = header\n",
    "    header['CRVAL3'] = low_good\n",
    "    hdu.writeto('trimcube/kb220131_'+number+'_tr_icubes.fits',overwrite=True)\n",
    "    print('Saved trimmed cube to: ', 'trimcube/kb220131_'+number+'_tr_icubes.fits')\n",
    "    \n",
    "    # Variance cube #\n",
    "    \n",
    "    hdul = fits.open('drp/kb220131_000'+number+'_vcubes.fits')\n",
    "    s = hdul[0].data # data string\n",
    "    header = hdul[0].header\n",
    "    w, ra, dec = np.shape(hdul[0].data)\n",
    "\n",
    "    first_lamb = header['CRVAL3']\n",
    "    spacing = header['CD3_3']\n",
    "    Lambda = np.arange(first_lamb, first_lamb + spacing*w, spacing)\n",
    "    \n",
    "    low_good = header['WAVGOOD0']\n",
    "    high_good = header['WAVGOOD1']\n",
    "    \n",
    "    # grab the index for the low/high wavelength in kcwi cube\n",
    "    idx_low = list(abs(Lambda-low_good)).index(np.min(abs(Lambda-low_good)))\n",
    "    idx_high = list(abs(Lambda-high_good)).index(np.min(abs(Lambda-high_good)))\n",
    "    \n",
    "    # Trim datacube\n",
    "    s = s[idx_low:idx_high,14:81,1:27]\n",
    "    \n",
    "    hdu = fits.PrimaryHDU(data=s)\n",
    "    hdu.header = header\n",
    "    header['CRVAL3'] = low_good\n",
    "    hdu.writeto('trimcube/kb220131_'+number+'_tr_vcubes.fits',overwrite=True)\n",
    "    print('Saved trimmed cube to: ', 'trimcube/kb220131_'+number+'_tr_vcubes.fits')"
   ]
  },
  {
   "cell_type": "code",
   "execution_count": 6,
   "metadata": {},
   "outputs": [
    {
     "name": "stdout",
     "output_type": "stream",
     "text": [
      "Saved trimmed cube to:  trimcube/kb220131_53_tr_icubes.fits\n",
      "Saved trimmed cube to:  trimcube/kb220131_53_tr_vcubes.fits\n",
      "Saved trimmed cube to:  trimcube/kb220131_54_tr_icubes.fits\n",
      "Saved trimmed cube to:  trimcube/kb220131_54_tr_vcubes.fits\n",
      "Saved trimmed cube to:  trimcube/kb220131_55_tr_icubes.fits\n",
      "Saved trimmed cube to:  trimcube/kb220131_55_tr_vcubes.fits\n",
      "Saved trimmed cube to:  trimcube/kb220131_56_tr_icubes.fits\n",
      "Saved trimmed cube to:  trimcube/kb220131_56_tr_vcubes.fits\n",
      "Saved trimmed cube to:  trimcube/kb220131_57_tr_icubes.fits\n",
      "Saved trimmed cube to:  trimcube/kb220131_57_tr_vcubes.fits\n",
      "Saved trimmed cube to:  trimcube/kb220131_58_tr_icubes.fits\n",
      "Saved trimmed cube to:  trimcube/kb220131_58_tr_vcubes.fits\n",
      "Saved trimmed cube to:  trimcube/kb220131_59_tr_icubes.fits\n",
      "Saved trimmed cube to:  trimcube/kb220131_59_tr_vcubes.fits\n",
      "Saved trimmed cube to:  trimcube/kb220131_61_tr_icubes.fits\n",
      "Saved trimmed cube to:  trimcube/kb220131_61_tr_vcubes.fits\n",
      "Saved trimmed cube to:  trimcube/kb220131_62_tr_icubes.fits\n",
      "Saved trimmed cube to:  trimcube/kb220131_62_tr_vcubes.fits\n",
      "Saved trimmed cube to:  trimcube/kb220131_63_tr_icubes.fits\n",
      "Saved trimmed cube to:  trimcube/kb220131_63_tr_vcubes.fits\n",
      "Saved trimmed cube to:  trimcube/kb220131_64_tr_icubes.fits\n",
      "Saved trimmed cube to:  trimcube/kb220131_64_tr_vcubes.fits\n",
      "Saved trimmed cube to:  trimcube/kb220131_65_tr_icubes.fits\n",
      "Saved trimmed cube to:  trimcube/kb220131_65_tr_vcubes.fits\n",
      "Saved trimmed cube to:  trimcube/kb220131_66_tr_icubes.fits\n",
      "Saved trimmed cube to:  trimcube/kb220131_66_tr_vcubes.fits\n"
     ]
    }
   ],
   "source": [
    "numbers=[53,54,55,56,57,58,59,61,62,63,64,65,66]\n",
    "for n in numbers:\n",
    "    number = str(n)\n",
    "    trim_kcwi_cube(number)"
   ]
  }
 ],
 "metadata": {
  "kernelspec": {
   "display_name": "Python 3",
   "language": "python",
   "name": "python3"
  },
  "language_info": {
   "codemirror_mode": {
    "name": "ipython",
    "version": 3
   },
   "file_extension": ".py",
   "mimetype": "text/x-python",
   "name": "python",
   "nbconvert_exporter": "python",
   "pygments_lexer": "ipython3",
   "version": "3.8.8"
  }
 },
 "nbformat": 4,
 "nbformat_minor": 4
}
