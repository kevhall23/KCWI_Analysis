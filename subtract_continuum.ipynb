{
 "cells": [
  {
   "cell_type": "code",
   "execution_count": 1,
   "metadata": {},
   "outputs": [],
   "source": [
    "# Necessary imports\n",
    "\n",
    "import numpy as np\n",
    "import matplotlib.pyplot as plt\n",
    "from astropy.io import fits\n",
    "from scipy.optimize import curve_fit\n",
    "import scipy.optimize as opt\n",
    "from tqdm import tqdm\n",
    "from scipy import signal\n",
    "from scipy.constants import c\n",
    "from scipy.ndimage import gaussian_filter\n",
    "from scipy import ndimage, misc\n",
    "from astropy.modeling import models, fitting\n",
    "from astropy.wcs import WCS\n",
    "import time\n",
    "\n",
    "\n",
    "import warnings\n",
    "\n",
    "import numpy as np\n",
    "\n",
    "import matplotlib.pyplot as plt\n",
    "\n",
    "from astropy.modeling import models\n",
    "\n",
    "from astropy import units as u\n",
    "\n",
    "from specutils.spectra import Spectrum1D, SpectralRegion\n",
    "\n",
    "from specutils.fitting import fit_generic_continuum"
   ]
  },
  {
   "attachments": {},
   "cell_type": "markdown",
   "metadata": {},
   "source": [
    "## Subtract out continuum using Median Filter\n",
    "\n",
    "## Subtract from each wavelength layer a NB image centered at the current layer built by selecting a width \n",
    "\n",
    "## NB image is built by computing the median of all layers within chosen width"
   ]
  },
  {
   "cell_type": "code",
   "execution_count": 2,
   "metadata": {},
   "outputs": [],
   "source": [
    "\n",
    "def subtract_continuum(number,WIDTH,directory,boxes=[],MASK=[]):\n",
    "    # Subtract out Continuum with Median Filter\n",
    "    \n",
    "    # directory: location of fits files to subtract\n",
    "    # Width of median filter\n",
    "    \n",
    "    # boxes: if the user chooses to mask out a region from continuum subtraction, boxes=[x1:x2,y1:y2]\n",
    "\n",
    "    if(directory == 'psfsub'):\n",
    "        hdul = fits.open('psfsub/kb220131_'+number+'_tr_psfsub_icubes.fits')\n",
    "        hdulvar = fits.open('psfsub/kb220131_'+number+'_tr_psfsub_vcubes.fits')\n",
    "    elif(directory == 'trimcube'):\n",
    "        hdul = fits.open('trimcube/kb220131_'+number+'_tr_icubes.fits')\n",
    "        hdulvar = fits.open('trimcube/kb220131_'+number+'_tr_vcubes.fits')\n",
    "    DATA = hdul[0].data\n",
    "    header = hdul[0].header\n",
    "    spacing = header['CD3_3']\n",
    "    w, ra, dec = np.shape(hdul[0].data)\n",
    "    first_lamb = header['CRVAL3']\n",
    "    spacing = header['CD3_3']\n",
    "    Lambda = np.arange(first_lamb, first_lamb + spacing*w-0.5, spacing)\n",
    "    hdul.close()\n",
    "    VAR = hdulvar[0].data\n",
    "    var_header = hdulvar[0].header\n",
    "    hdul.close()\n",
    "\n",
    "    OUT = np.copy(DATA)    \n",
    "    \n",
    "    FILTER = ndimage.median_filter(DATA,size=(WIDTH,1,1))\n",
    "    FILTER[FILTER<0] = 0 # Avoid increasing the flux at a given pixel (no spurious signal)\n",
    "    \n",
    "    OUT -= FILTER # subtract\n",
    "        \n",
    "    hdu = fits.PrimaryHDU(data=OUT)\n",
    "    hdu.header = header\n",
    "    hdu.writeto('psfcontsub/kb220131_'+number+'_tr_psfcontsub_icubes.fits',overwrite=True)\n",
    "    print('Saved fits file: psfcontsub/kb220131_'+number+'_tr_psfcontsub_icubes.fits')\n",
    "    \n",
    "    hdu = fits.PrimaryHDU(data=VAR)\n",
    "    hdu.header = var_header\n",
    "    hdu.writeto('psfcontsub/kb220131_'+number+'_tr_psfcontsub_vcubes.fits',overwrite=True)\n",
    "    "
   ]
  },
  {
   "cell_type": "code",
   "execution_count": 3,
   "metadata": {},
   "outputs": [
    {
     "name": "stdout",
     "output_type": "stream",
     "text": [
      "Saved fits file: psfcontsub/kb220131_53_tr_psfcontsub_icubes.fits\n",
      "Saved fits file: psfcontsub/kb220131_54_tr_psfcontsub_icubes.fits\n",
      "Saved fits file: psfcontsub/kb220131_55_tr_psfcontsub_icubes.fits\n",
      "Saved fits file: psfcontsub/kb220131_56_tr_psfcontsub_icubes.fits\n",
      "Saved fits file: psfcontsub/kb220131_57_tr_psfcontsub_icubes.fits\n",
      "Saved fits file: psfcontsub/kb220131_58_tr_psfcontsub_icubes.fits\n",
      "Saved fits file: psfcontsub/kb220131_65_tr_psfcontsub_icubes.fits\n"
     ]
    }
   ],
   "source": [
    "# South\n",
    "# Pull from psfsub\n",
    "numbers = [53,54,55,56,57,58,65]\n",
    "for n in numbers:\n",
    "    number = str(n)\n",
    "    subtract_continuum(number,200,'psfsub')"
   ]
  },
  {
   "cell_type": "code",
   "execution_count": 4,
   "metadata": {},
   "outputs": [
    {
     "name": "stdout",
     "output_type": "stream",
     "text": [
      "Saved fits file: psfcontsub/kb220131_59_tr_psfcontsub_icubes.fits\n",
      "Saved fits file: psfcontsub/kb220131_61_tr_psfcontsub_icubes.fits\n",
      "Saved fits file: psfcontsub/kb220131_62_tr_psfcontsub_icubes.fits\n",
      "Saved fits file: psfcontsub/kb220131_63_tr_psfcontsub_icubes.fits\n",
      "Saved fits file: psfcontsub/kb220131_64_tr_psfcontsub_icubes.fits\n",
      "Saved fits file: psfcontsub/kb220131_66_tr_psfcontsub_icubes.fits\n"
     ]
    }
   ],
   "source": [
    "# North \n",
    "# Pull from trimcube if you did not run psfsub (do not need to since there are no QSOs)\n",
    "numbers = [59,61,62,63,64,66]\n",
    "for n in numbers:\n",
    "    number = str(n)\n",
    "    subtract_continuum(number,200,'trimcube')"
   ]
  }
 ],
 "metadata": {
  "kernelspec": {
   "display_name": "Python 3",
   "language": "python",
   "name": "python3"
  },
  "language_info": {
   "codemirror_mode": {
    "name": "ipython",
    "version": 3
   },
   "file_extension": ".py",
   "mimetype": "text/x-python",
   "name": "python",
   "nbconvert_exporter": "python",
   "pygments_lexer": "ipython3",
   "version": "3.8.8"
  }
 },
 "nbformat": 4,
 "nbformat_minor": 4
}
