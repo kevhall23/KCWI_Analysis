{
 "cells": [
  {
   "cell_type": "code",
   "execution_count": 1,
   "metadata": {},
   "outputs": [],
   "source": [
    "# Necessary imports\n",
    "\n",
    "import numpy as np\n",
    "import matplotlib.pyplot as plt\n",
    "from astropy.io import fits\n",
    "from scipy.optimize import curve_fit\n",
    "import scipy.optimize as opt\n",
    "from tqdm import tqdm\n",
    "from scipy import signal\n",
    "from scipy.constants import c\n",
    "from scipy.ndimage import gaussian_filter\n",
    "from scipy import ndimage, misc\n",
    "from astropy.modeling import models, fitting\n",
    "from astropy.wcs import WCS\n",
    "import time\n",
    "import cwitools\n",
    "from cwitools.scripts import *\n",
    "from cwitools.reduction import *\n"
   ]
  },
  {
   "cell_type": "code",
   "execution_count": null,
   "metadata": {},
   "outputs": [],
   "source": []
  },
  {
   "attachments": {},
   "cell_type": "markdown",
   "metadata": {},
   "source": [
    "# Coadd KCWI Datacubes\n",
    "\n",
    "## Utilize CWITools\n",
    "\n",
    "## Set Pixel size to 0.7\" x 0.7\"\n",
    "\n",
    "## To Coadd, we need to provide list file that controls which icubes fits files we stack into one frame with Drizzle\n",
    "\n",
    "## These list files are: \"g0913_trimcube_cubes.list\", and \"g0913_psfcontsub_cubes.list\"\n",
    "\n",
    "## All Coadd Fits files are saved to \"coadds/\" directory\n",
    "\n",
    "## Need to use modified CWITools cube.py file\n",
    "\n"
   ]
  },
  {
   "attachments": {},
   "cell_type": "markdown",
   "metadata": {},
   "source": [
    "### Coadd icubes to create whitelight image of KCWI observation\n",
    "### (No qso/continuum subtraction)"
   ]
  },
  {
   "cell_type": "code",
   "execution_count": 6,
   "metadata": {},
   "outputs": [
    {
     "name": "stdout",
     "output_type": "stream",
     "text": [
      "\n",
      "\t2024-05-14 09:21:10.645336\n",
      "\tCOADD:\n",
      "\t\tclist = g0913_trimcube_cubes.list\n",
      "\t\tctype = icubes.fits\n",
      "\t\tmasks = None\n",
      "\t\tvar = vcubes.fits\n",
      "\t\tpx_thresh = 0.5\n",
      "\t\texp_thresh = 0.1\n",
      "\t\tdrizzle = 0.7\n",
      "\t\tpa = 0\n",
      "\t\tout = coadds/G0913_whitelight_px0.7.fits\n",
      "\t\tverbose = True\n",
      "\t\tlog = None\n",
      "\t\tsilent = None\n",
      "\t\tPIX_SIZE = 0.7\n",
      "\tAligning wavelength axes...\n",
      "\tMapping pixels from input --> sky --> output frames.\n"
     ]
    },
    {
     "name": "stderr",
     "output_type": "stream",
     "text": [
      "100%|██████████| 22646/22646 [00:41<00:00, 550.45it/s]\n"
     ]
    },
    {
     "name": "stdout",
     "output_type": "stream",
     "text": [
      "\tTrimming coadded canvas.\n",
      "\n",
      "\tSaved coadds/G0913_whitelight_px0.7.fits\n",
      "\n",
      "\tSaved coadds/G0913_whitelight_px0.7.var.fits\n",
      "\tElapsed time: 49.39 seconds\n"
     ]
    }
   ],
   "source": [
    "filename = 'coadds/G0913_whitelight_px0.7'\n",
    "\n",
    "# cubes.list provides the names for all icubes fits files to coadd & location\n",
    "\n",
    "cwi_coadd(\n",
    "    \"g0913_trimcube_cubes.list\",\n",
    "    ctype=\"icubes.fits\",\n",
    "    verbose=True,\n",
    "    out=filename+\".fits\",\n",
    "    drizzle=0.7,\n",
    "    exp_thresh=0.1,\n",
    "    var='vcubes.fits',\n",
    "    PIX_SIZE=0.7\n",
    ")\n",
    "\n"
   ]
  },
  {
   "cell_type": "code",
   "execution_count": 7,
   "metadata": {},
   "outputs": [
    {
     "name": "stdout",
     "output_type": "stream",
     "text": [
      "\n",
      "\t2024-05-14 10:04:32.445667\n",
      "\tCOADD:\n",
      "\t\tclist = g0913_psfcontsub_cubes.list\n",
      "\t\tctype = icubes.fits\n",
      "\t\tmasks = None\n",
      "\t\tvar = vcubes.fits\n",
      "\t\tpx_thresh = 0.5\n",
      "\t\texp_thresh = 0.1\n",
      "\t\tdrizzle = 0.7\n",
      "\t\tpa = 0\n",
      "\t\tout = coadds/G0913_psfcontsub_px0.7.fits\n",
      "\t\tverbose = True\n",
      "\t\tlog = None\n",
      "\t\tsilent = None\n",
      "\t\tPIX_SIZE = 0.7\n",
      "\tAligning wavelength axes...\n",
      "\tMapping pixels from input --> sky --> output frames.\n"
     ]
    },
    {
     "name": "stderr",
     "output_type": "stream",
     "text": [
      "100%|██████████| 22646/22646 [00:40<00:00, 562.46it/s]\n"
     ]
    },
    {
     "name": "stdout",
     "output_type": "stream",
     "text": [
      "\tTrimming coadded canvas.\n",
      "\n",
      "\tSaved coadds/G0913_psfcontsub_px0.7.fits\n",
      "\n",
      "\tSaved coadds/G0913_psfcontsub_px0.7.var.fits\n",
      "\tElapsed time: 48.22 seconds\n"
     ]
    }
   ],
   "source": [
    "filename = 'coadds/G0913_psfcontsub_px0.7'\n",
    "\n",
    "# cubes.list provides the names for all icubes fits files to coadd & location\n",
    "\n",
    "cwi_coadd(\n",
    "    \"g0913_psfcontsub_cubes.list\",\n",
    "    ctype=\"icubes.fits\",\n",
    "    verbose=True,\n",
    "    out=filename+\".fits\",\n",
    "    drizzle=0.7,\n",
    "    exp_thresh=0.1,\n",
    "    var='vcubes.fits',\n",
    "    PIX_SIZE=0.7\n",
    ")\n",
    "\n"
   ]
  }
 ],
 "metadata": {
  "kernelspec": {
   "display_name": "Python 3",
   "language": "python",
   "name": "python3"
  },
  "language_info": {
   "codemirror_mode": {
    "name": "ipython",
    "version": 3
   },
   "file_extension": ".py",
   "mimetype": "text/x-python",
   "name": "python",
   "nbconvert_exporter": "python",
   "pygments_lexer": "ipython3",
   "version": "3.8.8"
  }
 },
 "nbformat": 4,
 "nbformat_minor": 4
}
